{
 "cells": [
  {
   "cell_type": "code",
   "execution_count": null,
   "id": "6db6b877-73da-45ae-b734-5a73190a794d",
   "metadata": {},
   "outputs": [],
   "source": []
  },
  {
   "cell_type": "code",
   "execution_count": 1,
   "id": "a874cea8-831f-4e81-b765-4c52f2a8d505",
   "metadata": {},
   "outputs": [],
   "source": [
    "#import packages\n",
    "import os\n",
    "import gc\n",
    "import torch.nn as nn\n",
    "import torch.optim as optim\n",
    "import numpy as np\n",
    "from PIL import Image\n",
    "import torchvision.transforms.functional as F\n",
    "from torchvision.transforms import v2\n",
    "import matplotlib.pyplot as plt\n",
    "import pathlib\n",
    "from torch.utils.data import Dataset\n",
    "\n",
    "import numpy as np\n",
    "#from sklearn.model_selection import train_test_split\n",
    "from sklearn import metrics\n",
    "from sklearn.metrics import precision_score, recall_score, f1_score, roc_curve, auc, roc_auc_score\n",
    "\n",
    "import torchvision.transforms as transforms\n",
    "from torchvision.datasets import ImageFolder\n",
    "import torch\n",
    "import torchvision\n",
    "#from torchvision.models import resnet101, ResNet101_Weights\n",
    "from torchvision.models import resnet50, ResNet50_Weights\n",
    "\n",
    "\n",
    "#gradcam\n",
    "import cv2\n"
   ]
  },
  {
   "cell_type": "code",
   "execution_count": 2,
   "id": "9e8c39a2-b8c8-4753-8b04-d478ab5d8373",
   "metadata": {},
   "outputs": [],
   "source": [
    "#good practice to provide class labels as integer arrays\n",
    "\n",
    "CLASSES = [\"BLD\", \"No BLD\"]\n",
    "class_mapping = {label: idx for idx, label in\n",
    "                 enumerate(np.unique([CLASSES]))}\n"
   ]
  },
  {
   "cell_type": "code",
   "execution_count": 3,
   "id": "560dd1ad-59fc-4dfe-9480-66182e5fa5e5",
   "metadata": {},
   "outputs": [],
   "source": [
    "#dictonary to modify transformations\n",
    "config = dict(\n",
    "    rot=90,\n",
    "    noise=0.05\n",
    ")"
   ]
  },
  {
   "cell_type": "code",
   "execution_count": 4,
   "id": "c8bde08a-10c7-47f3-a835-a279ac2d4fb4",
   "metadata": {},
   "outputs": [],
   "source": [
    "#make sure image input size matches expected size for the spcific models\n",
    "\n",
    "train_transform = transforms.Compose(\n",
    "    #384x384 for efficientnet\n",
    "    #224x225 for ResNEt and MobileNEt\n",
    "    #256x256 for Swin\n",
    "    [transforms.Resize([224,224]), #converts image to the pre-trained model dimension expectations\n",
    "     #transforms.RandomRotation(degrees=config[\"rot\"]),\n",
    "     #transforms.RandomVerticalFlip(p=0.5),\n",
    "     #transforms.RandomHorizontalFlip(p=0.5),\n",
    "     transforms.Grayscale(3),\n",
    "     transforms.ToTensor(), #Converts a PIL Image or numpy.ndarray (H x W x C) in the range [0, 255] to a torch.FloatTensor of shape (C x H x W) in the range [0.0, 1.0]\n",
    "     transforms.Normalize(mean=(0.485, 0.456, 0.406), std=(0.229, 0.224, 0.225)),#this is a standard RGB mean and std\n",
    "    ])\n",
    "\n",
    "#validation preprocessing\n",
    "val_transform = transforms.Compose(\n",
    "    [transforms.Resize([224,224]), #converts image to the pre-trained model dimension expectations\n",
    "     transforms.Grayscale(3),\n",
    "     transforms.ToTensor(),\n",
    "     transforms.Normalize(mean=(0.485, 0.456, 0.406), std=(0.229, 0.224, 0.225)),#this is a standard RGB mean and std\n",
    "     ])\n",
    "     "
   ]
  },
  {
   "cell_type": "code",
   "execution_count": 5,
   "id": "194814a0-a223-4965-8305-0d51c556cd82",
   "metadata": {},
   "outputs": [],
   "source": [
    "#import data\n",
    "#images in directories converted to tensor format and classes obtained from direcory names\n",
    "#add test folder once get more data\n",
    "\n",
    "train_dataset = torchvision.datasets.ImageFolder(root='/project/90daydata/nematode_ml/BLD/NematodeDataset/train', transform=train_transform)\n",
    "#test_dataset = torchvision.datasets.ImageFolder(root='/project/90daydata/nematode_ml/BLD/NematodeDataset/test', transform=val_transform)\n",
    "val_dataset = torchvision.datasets.ImageFolder(root='/project/90daydata/nematode_ml/BLD/NematodeDataset/val', transform=val_transform)"
   ]
  },
  {
   "cell_type": "code",
   "execution_count": 6,
   "id": "d2df7ab2-d10e-40a0-9edd-3180d34b4071",
   "metadata": {},
   "outputs": [
    {
     "name": "stdout",
     "output_type": "stream",
     "text": [
      "torch.Size([3, 224, 224])\n"
     ]
    }
   ],
   "source": [
    "# Access the transformed image\n",
    "image, label = train_dataset[0]\n",
    "# Check the size of the transformed image\n",
    "print(image.shape) #retuns [channel, height, width]. 3 indicates color. During training an additional element is added, batch_size\n"
   ]
  },
  {
   "cell_type": "code",
   "execution_count": 7,
   "id": "4959a780-e8dd-436f-923d-834ad08f2f8d",
   "metadata": {},
   "outputs": [
    {
     "data": {
      "text/plain": [
       "{'BLD': 0, 'No_BLD': 1}"
      ]
     },
     "execution_count": 7,
     "metadata": {},
     "output_type": "execute_result"
    }
   ],
   "source": [
    "#check class names\n",
    "train_dataset.class_to_idx"
   ]
  },
  {
   "cell_type": "code",
   "execution_count": 8,
   "id": "32d40c0b-fc1c-4d09-ab2f-e5f68a575a5d",
   "metadata": {},
   "outputs": [
    {
     "name": "stdout",
     "output_type": "stream",
     "text": [
      "Number of images in training dataset: 82\n",
      "Number of images in validation dataset: 26\n"
     ]
    }
   ],
   "source": [
    "#check number of images in each set\n",
    "print(f'Number of images in training dataset: {len(train_dataset)}')\n",
    "#print(f'Number of images in testing dataset: {len(test_dataset)}')\n",
    "print(f'Number of images in validation dataset: {len(val_dataset)}')"
   ]
  },
  {
   "cell_type": "code",
   "execution_count": 9,
   "id": "98f37311-ce67-44d2-8e5a-1a8148e53b71",
   "metadata": {},
   "outputs": [],
   "source": [
    "#a hyperparameter to try changing\n",
    "#batch_size = 4\n",
    "batch_size = 16\n",
    "#batch_size = 32"
   ]
  },
  {
   "cell_type": "code",
   "execution_count": 10,
   "id": "5f5a512b-2c28-4f7f-aed0-6be10ba915ff",
   "metadata": {},
   "outputs": [],
   "source": [
    "#dataloader\n",
    "#output a batch of images and labels, one sample at a time\n",
    "\n",
    "trainloader = torch.utils.data.DataLoader(train_dataset, batch_size=batch_size,\n",
    "                                          shuffle=True)\n",
    "#testloader = torch.utils.data.DataLoader(test_dataset, batch_size=batch_size,\n",
    "#                                         shuffle=True)\n",
    "valloader = torch.utils.data.DataLoader(val_dataset, batch_size=batch_size,\n",
    "                                         shuffle=True)\n",
    "\n"
   ]
  },
  {
   "cell_type": "code",
   "execution_count": null,
   "id": "4dae287f-3868-420f-b336-8f6ddfb24b03",
   "metadata": {},
   "outputs": [],
   "source": []
  },
  {
   "cell_type": "code",
   "execution_count": 33,
   "id": "9c7677a1-f540-4a2d-b2c9-a308386eef01",
   "metadata": {},
   "outputs": [
    {
     "data": {
      "text/plain": [
       "2096"
      ]
     },
     "execution_count": 33,
     "metadata": {},
     "output_type": "execute_result"
    }
   ],
   "source": [
    "# Clear memory\n",
    "\n",
    "del model_RN\n",
    "del optimizer\n",
    "\n",
    "# Clear cache\n",
    "torch.cuda.empty_cache()\n",
    "\n",
    "# Run garbage collector\n",
    "gc.collect()"
   ]
  },
  {
   "cell_type": "code",
   "execution_count": 34,
   "id": "f3b1713b-8d10-4479-86bf-41bef5931cde",
   "metadata": {},
   "outputs": [],
   "source": [
    "#Import model for training\n",
    "\n",
    "#ResNet101 \n",
    "#weights = ResNet101_Weights.DEFAULT\n",
    "#model_RN = torchvision.models.resnet101(weights=weights)\n",
    "\n",
    "weights = ResNet50_Weights.DEFAULT\n",
    "model_RN = torchvision.models.resnet50(weights=weights)"
   ]
  },
  {
   "cell_type": "code",
   "execution_count": 35,
   "id": "49ed7508-a0b8-4fac-be61-19eab9e4ba1a",
   "metadata": {},
   "outputs": [],
   "source": [
    "#ResNet\n",
    "#Intitalize model, not freezing layers\n",
    "device = torch.device(\"cuda\" if torch.cuda.is_available() else \"cpu\")\n",
    "\n",
    "#freeze layers\n",
    "for param in model_RN.parameters():\n",
    "    param.requires_grad = False\n",
    "\n",
    "model_rn = model_RN\n",
    "num_ftrs = model_rn.fc.in_features #print this out to confirm a value\n",
    "\n",
    "num_classes = 2  # Replace with the number of classes in your dataset\n",
    "# Alternatively, it can be generalized to ``nn.Linear(num_ftrs, len(class_names))``.\n",
    "model_rn.fc = nn.Linear(in_features=model_rn.fc.in_features, out_features=num_classes)\n",
    "\n",
    "model_rn = model_rn.to(device) #move model to this device\n",
    "\n",
    "\n",
    "\n",
    "#Loss function\n",
    "\n",
    "#criterion = nn.CrossEntropyLoss()\n",
    "#criterion = nn.BCELoss() \n",
    "criterion = nn.BCEWithLogitsLoss() #recommended for binary classificaion\n",
    "\n",
    "\n",
    "# Observe that all parameters are being optimized\n",
    "#optimizer = optim.SGD(model_ft.parameters(), lr=0.001)\n",
    "optimizer = optim.Adam(model_rn.parameters(), lr=0.001)\n",
    "\n",
    "# Decay LR by a factor of 0.1 every 7 epochs\n",
    "#exp_lr_scheduler = lr_scheduler.StepLR(optimizer_ft, step_size=7, gamma=0.1)"
   ]
  },
  {
   "cell_type": "code",
   "execution_count": 36,
   "id": "01640b3c-6f2b-4059-a29f-5ce87120fcbc",
   "metadata": {},
   "outputs": [],
   "source": [
    "#Pg. 479 pytorch book\n",
    "#modified to accomidate BCELoss format expectations in the pred output\n",
    "#Pg. 473\n",
    "#If returning 1 probablity from model(x_batch) (using [:,0]), then use BCE function\n",
    "#If retunring 2 proabability values, use Cross entropy loss function\n",
    "\n",
    "def train_1(model, num_epochs, train_d1, valid_d1):\n",
    "    loss_hist_train = [0] * num_epochs\n",
    "    accuracy_hist_train = [0] * num_epochs\n",
    "    loss_hist_valid = [0] * num_epochs\n",
    "    accuracy_hist_valid = [0] * num_epochs\n",
    "    \n",
    "    for epoch in range(num_epochs):\n",
    "        model.train() #set model to training mode\n",
    "        for x_batch, y_batch, in train_d1:\n",
    "            #output of forward pass a tensor with predictions for the batch\n",
    "            pred = model(x_batch)[:,0] #slicing the first column to make shapes match for BCE loss\n",
    "            #print(pred.size(), y_batch.size()) #use this to troubleshoot BCE error. Shapes should match\n",
    "        \n",
    "        #uncomment block\n",
    "            loss = criterion(pred, y_batch.float()) \n",
    "            loss.backward()\n",
    "            optimizer.step()\n",
    "            optimizer.zero_grad()\n",
    "            loss_hist_train[epoch] += loss.item()*y_batch.size(0)\n",
    "            is_correct = ((pred>=0.5).float() == y_batch).float() #calculating correct class from first column of pred tensor [:,0]\n",
    "            accuracy_hist_train[epoch] += is_correct.sum()\n",
    "        loss_hist_train[epoch] /= len(train_d1.dataset)\n",
    "        accuracy_hist_train[epoch] /= len(train_d1.dataset)\n",
    "        \n",
    "        model.eval() \n",
    "        all_preds = []\n",
    "        all_labels = []\n",
    "        \n",
    "        with torch.no_grad():\n",
    "            for x_batch, y_batch in valid_d1:\n",
    "                pred = model(x_batch)[:,0] #slicing the first column to make shapes match for BCE loss\n",
    "                 #save probabilities from previously trained model\n",
    "                outputs = model(x_batch)\n",
    "                #print(f'pred {pred}')\n",
    "                \n",
    "                #saving largest probabilities in each batch\n",
    "                #probabilities in logit format (from BCELoss)\n",
    "                probs, preds = torch.max(outputs,1) \n",
    "                #print(f'preds {preds}')\n",
    "                #print(f'probs {probs}')\n",
    "                \n",
    "                probability = torch.sigmoid(pred)\n",
    "                #probability = torch.sigmoid(outputs)[0]\n",
    "                #print(f'probability {probability}')\n",
    "                #print(f'true labels {y_batch}')\n",
    "                \n",
    "                \n",
    "               #uncomment block\n",
    "                loss = criterion(pred, y_batch.float()) #BCE expects floar\n",
    "                loss_hist_valid[epoch] += \\\n",
    "                    loss.item() * y_batch.size(0)\n",
    "                is_correct = \\\n",
    "                    ((pred>=0.5).float() == y_batch).float()\n",
    "                accuracy_hist_valid[epoch] += is_correct.sum()\n",
    "            loss_hist_valid[epoch] /= len(valid_d1.dataset)\n",
    "            accuracy_hist_valid[epoch] /= len(valid_d1.dataset)\n",
    "\n",
    "            #Preparing data for evaluation\n",
    "            #append values in list after loop   \n",
    "            all_preds.extend(preds.cpu().numpy())\n",
    "            all_labels.extend(y_batch.cpu().numpy())\n",
    "            #print(f'all preds 1 {all_preds}')\n",
    "            #print(f'all labels 1 {all_labels}')\n",
    "            \n",
    "            #convert to np array  \n",
    "            #all_preds = np.array(all_preds)\n",
    "            #all_labels = np.array(all_labels)\n",
    "\n",
    "        all_preds = np.array(all_preds)\n",
    "        all_labels = np.array(all_labels)\n",
    "            \n",
    "            #all_preds = torch.tensor(all_preds)\n",
    "            #all_labels = torch.tensor(all_labels)\n",
    "            #print(f'all preds {all_preds}')\n",
    "            #print(f'all labels {all_labels}')\n",
    "        \n",
    "\n",
    "        #uncomment block\n",
    "        print(f'Epoch {epoch+1} '\n",
    "              f'accuracy: {accuracy_hist_train[epoch]:.4f}, '\n",
    "              f'val_accuracy: {accuracy_hist_valid[epoch]:.4f}, '\n",
    "              f'train_loss: {loss_hist_train[epoch]:.4f}, '\n",
    "              f'val_loss: {loss_hist_valid[epoch]:.4f} ')\n",
    "\n",
    "            \n",
    "\n",
    "    # Compute precision\n",
    "    precision = precision_score(all_labels, all_preds, average='binary')  # Use 'micro', 'macro', or 'weighted' for multi-class\n",
    "    #calculate recall score\n",
    "    recall = recall_score(all_labels, all_preds, average='binary')\n",
    "    #Calculate f1 score\n",
    "    f1 = f1_score(all_labels, all_preds, average='binary')\n",
    "\n",
    "    # Calculate ROC AUC\n",
    "    #need to confirm if sigmoid function is needed (all_predictions vs all_preds\n",
    "    #auc = roc_auc_score(all_labels, all_predictions)\n",
    "    auc = roc_auc_score(all_labels, all_preds)\n",
    "        \n",
    "                    \n",
    "\n",
    "    print(f'Precision Score: {precision:.4f}, '\n",
    "          f'Recall Score: {recall:.4f}, '\n",
    "          f'F1 Score: {f1:.4f}, '\n",
    "          f'ROC AUC: {auc:.4f}'\n",
    "            )    \n",
    "\n",
    "    #for graph\n",
    "    fpr, tpr, thresholds = roc_curve(all_labels, all_preds) \n",
    "    roc_auc = metrics.auc(fpr, tpr)\n",
    "    \n",
    "    # Plot the ROC curve\n",
    "    #plt.figure()  \n",
    "    #plt.plot(fpr, tpr, label='ROC curve (area = %0.2f)' % roc_auc)\n",
    "    #plt.plot([0, 1], [0, 1], 'k--', label='No Skill')\n",
    "    #plt.xlim([0.0, 1.0])\n",
    "    #plt.ylim([0.0, 1.05])\n",
    "    #plt.xlabel('False Positive Rate')\n",
    "    #plt.ylabel('True Positive Rate')\n",
    "    #plt.title('ROC Curve for Beech Leaf Disease Classification')\n",
    "    #plt.legend()\n",
    "    #plt.show()\n",
    "\n",
    "    #returns these values that can be stored in a variable when the function is run\n",
    "    return loss_hist_train, loss_hist_valid, \\\n",
    "        accuracy_hist_train, accuracy_hist_valid, \\\n",
    "        precision, recall, f1, fpr, tpr, auc"
   ]
  },
  {
   "cell_type": "code",
   "execution_count": 37,
   "id": "b6a96328-424b-40d8-9f70-ec37affc50a8",
   "metadata": {},
   "outputs": [
    {
     "name": "stdout",
     "output_type": "stream",
     "text": [
      "Epoch 1 accuracy: 0.6829, val_accuracy: 0.6154, train_loss: 0.6228, val_loss: 0.6236 \n",
      "Epoch 2 accuracy: 0.6829, val_accuracy: 0.6154, train_loss: 0.5844, val_loss: 0.6065 \n",
      "Precision Score: 0.4000, Recall Score: 1.0000, F1 Score: 0.5714, ROC AUC: 0.5000\n"
     ]
    }
   ],
   "source": [
    "#Train model not frozen\n",
    "torch.manual_seed(1)\n",
    "num_epochs = 2\n",
    "hist = train_1(model_rn, num_epochs, trainloader, valloader)\n",
    "\n",
    "#print(len(hist))\n",
    "#print(hist[0:9])\n",
    "#saved variable 'hist' contains the values from each epoch of loss_hist_train [0],\n",
    "#loss_hist_valid [1], accuracy_hist_train [2], accuracy_hist_valid [3],\n",
    "#contains single value of precision [4], recall, [5], f1 [6], fpr [7], tpr [8], auc [9]"
   ]
  },
  {
   "cell_type": "code",
   "execution_count": 18,
   "id": "4acc979b-f2f0-407e-9e98-860153c3d1c1",
   "metadata": {},
   "outputs": [
    {
     "data": {
      "image/png": "[encoded data removed]",
      "text/plain": [
       "<Figure size 864x288 with 2 Axes>"
      ]
     },
     "metadata": {
      "needs_background": "light"
     },
     "output_type": "display_data"
    }
   ],
   "source": [
    "#Plot learning curve\n",
    "x_arr = np.arange(len(hist[0])) + 1\n",
    "fig = plt.figure(figsize=(12,4))\n",
    "ax = fig.add_subplot(1, 2, 1)\n",
    "ax.plot(x_arr, hist[0], '-o', label='Train loss')\n",
    "ax.plot(x_arr, hist[1], '--<', label='Validation loss')\n",
    "ax.legend(fontsize = 15)\n",
    "ax = fig.add_subplot(1, 2, 2)\n",
    "ax.plot(x_arr, hist[2], '-o', label='Train accuracy')\n",
    "ax.plot(x_arr, hist[3], '--<',\n",
    "        label='Validation accuracy')\n",
    "ax.legend(fontsize=15)\n",
    "ax.set_xlabel('Epoch', size = 15)\n",
    "ax.set_ylabel('Accuracy', size=15)\n",
    "plt.show()\n",
    "\n",
    "\n"
   ]
  },
  {
   "cell_type": "code",
   "execution_count": null,
   "id": "e25770ac-dd10-4bb9-beca-98b87f7dd9f8",
   "metadata": {},
   "outputs": [],
   "source": []
  },
  {
   "cell_type": "code",
   "execution_count": null,
   "id": "f97d4ae0-af20-41e0-b9d1-3bf86a381582",
   "metadata": {},
   "outputs": [],
   "source": []
  },
  {
   "cell_type": "code",
   "execution_count": null,
   "id": "1f4be02a-1920-487a-9e7d-9ee4132acdc6",
   "metadata": {},
   "outputs": [],
   "source": []
  },
  {
   "cell_type": "code",
   "execution_count": 53,
   "id": "6f71399a-f3a2-4c3c-82a4-01e9b6f60367",
   "metadata": {},
   "outputs": [
    {
     "ename": "TypeError",
     "evalue": "forward() missing 1 required positional argument: 'x'",
     "output_type": "error",
     "traceback": [
      "\u001b[0;31m---------------------------------------------------------------------------\u001b[0m",
      "\u001b[0;31mTypeError\u001b[0m                                 Traceback (most recent call last)",
      "Input \u001b[0;32mIn [53]\u001b[0m, in \u001b[0;36m<module>\u001b[0;34m\u001b[0m\n\u001b[1;32m      1\u001b[0m \u001b[38;5;66;03m# clear memory\u001b[39;00m\n\u001b[0;32m----> 4\u001b[0m model \u001b[38;5;241m=\u001b[39m \u001b[43mmodel_RN\u001b[49m\u001b[43m(\u001b[49m\u001b[43m)\u001b[49m\n\u001b[1;32m      5\u001b[0m \u001b[38;5;28;01mdel\u001b[39;00m model_RN\n\u001b[1;32m      6\u001b[0m optimizer\u001b[38;5;241m.\u001b[39mstate_dict()\u001b[38;5;241m.\u001b[39mclear()\n",
      "File \u001b[0;32m/project/nematode_ml/envs/ipykernel/lib/python3.8/site-packages/torch/nn/modules/module.py:1553\u001b[0m, in \u001b[0;36mModule._wrapped_call_impl\u001b[0;34m(self, *args, **kwargs)\u001b[0m\n\u001b[1;32m   1551\u001b[0m     \u001b[38;5;28;01mreturn\u001b[39;00m \u001b[38;5;28mself\u001b[39m\u001b[38;5;241m.\u001b[39m_compiled_call_impl(\u001b[38;5;241m*\u001b[39margs, \u001b[38;5;241m*\u001b[39m\u001b[38;5;241m*\u001b[39mkwargs)  \u001b[38;5;66;03m# type: ignore[misc]\u001b[39;00m\n\u001b[1;32m   1552\u001b[0m \u001b[38;5;28;01melse\u001b[39;00m:\n\u001b[0;32m-> 1553\u001b[0m     \u001b[38;5;28;01mreturn\u001b[39;00m \u001b[38;5;28;43mself\u001b[39;49m\u001b[38;5;241;43m.\u001b[39;49m\u001b[43m_call_impl\u001b[49m\u001b[43m(\u001b[49m\u001b[38;5;241;43m*\u001b[39;49m\u001b[43margs\u001b[49m\u001b[43m,\u001b[49m\u001b[43m \u001b[49m\u001b[38;5;241;43m*\u001b[39;49m\u001b[38;5;241;43m*\u001b[39;49m\u001b[43mkwargs\u001b[49m\u001b[43m)\u001b[49m\n",
      "File \u001b[0;32m/project/nematode_ml/envs/ipykernel/lib/python3.8/site-packages/torch/nn/modules/module.py:1562\u001b[0m, in \u001b[0;36mModule._call_impl\u001b[0;34m(self, *args, **kwargs)\u001b[0m\n\u001b[1;32m   1557\u001b[0m \u001b[38;5;66;03m# If we don't have any hooks, we want to skip the rest of the logic in\u001b[39;00m\n\u001b[1;32m   1558\u001b[0m \u001b[38;5;66;03m# this function, and just call forward.\u001b[39;00m\n\u001b[1;32m   1559\u001b[0m \u001b[38;5;28;01mif\u001b[39;00m \u001b[38;5;129;01mnot\u001b[39;00m (\u001b[38;5;28mself\u001b[39m\u001b[38;5;241m.\u001b[39m_backward_hooks \u001b[38;5;129;01mor\u001b[39;00m \u001b[38;5;28mself\u001b[39m\u001b[38;5;241m.\u001b[39m_backward_pre_hooks \u001b[38;5;129;01mor\u001b[39;00m \u001b[38;5;28mself\u001b[39m\u001b[38;5;241m.\u001b[39m_forward_hooks \u001b[38;5;129;01mor\u001b[39;00m \u001b[38;5;28mself\u001b[39m\u001b[38;5;241m.\u001b[39m_forward_pre_hooks\n\u001b[1;32m   1560\u001b[0m         \u001b[38;5;129;01mor\u001b[39;00m _global_backward_pre_hooks \u001b[38;5;129;01mor\u001b[39;00m _global_backward_hooks\n\u001b[1;32m   1561\u001b[0m         \u001b[38;5;129;01mor\u001b[39;00m _global_forward_hooks \u001b[38;5;129;01mor\u001b[39;00m _global_forward_pre_hooks):\n\u001b[0;32m-> 1562\u001b[0m     \u001b[38;5;28;01mreturn\u001b[39;00m \u001b[43mforward_call\u001b[49m\u001b[43m(\u001b[49m\u001b[38;5;241;43m*\u001b[39;49m\u001b[43margs\u001b[49m\u001b[43m,\u001b[49m\u001b[43m \u001b[49m\u001b[38;5;241;43m*\u001b[39;49m\u001b[38;5;241;43m*\u001b[39;49m\u001b[43mkwargs\u001b[49m\u001b[43m)\u001b[49m\n\u001b[1;32m   1564\u001b[0m \u001b[38;5;28;01mtry\u001b[39;00m:\n\u001b[1;32m   1565\u001b[0m     result \u001b[38;5;241m=\u001b[39m \u001b[38;5;28;01mNone\u001b[39;00m\n",
      "\u001b[0;31mTypeError\u001b[0m: forward() missing 1 required positional argument: 'x'"
     ]
    }
   ],
   "source": [
    "# clear memory\n",
    "\n",
    "\n",
    "model = model_RN()\n",
    "del model_RN\n",
    "optimizer.state_dict().clear()\n",
    "del optimizer\n",
    "\n",
    "# Clear cache\n",
    "torch.cuda.empty_cache()\n",
    "\n",
    "# Run garbage collector\n",
    "gc.collect()"
   ]
  },
  {
   "cell_type": "code",
   "execution_count": 49,
   "id": "f6bc9e1e-a9a5-48c2-8fcf-1be770a88c1e",
   "metadata": {},
   "outputs": [],
   "source": [
    "#Import model for training\n",
    "\n",
    "#ResNet101 \n",
    "#weights = ResNet101_Weights.DEFAULT\n",
    "#model_RN = torchvision.models.resnet101(weights=weights)\n",
    "\n",
    "weights = ResNet50_Weights.DEFAULT\n",
    "model_RN = torchvision.models.resnet50(weights=weights)"
   ]
  },
  {
   "cell_type": "code",
   "execution_count": 50,
   "id": "870cb0bb-fcfe-4352-a992-4b88c2ecf047",
   "metadata": {},
   "outputs": [],
   "source": [
    "#ResNet\n",
    "#Intitalize model, not freezing layers\n",
    "device = torch.device(\"cuda\" if torch.cuda.is_available() else \"cpu\")\n",
    "\n",
    "#freeze layers\n",
    "for param in model_RN.parameters():\n",
    "    param.requires_grad = True\n",
    "\n",
    "model_rn = model_RN\n",
    "num_ftrs = model_rn.fc.in_features #print this out to confirm a value\n",
    "\n",
    "num_classes = 2  # Replace with the number of classes in your dataset\n",
    "# Alternatively, it can be generalized to ``nn.Linear(num_ftrs, len(class_names))``.\n",
    "model_rn.fc = nn.Linear(in_features=model_rn.fc.in_features, out_features=num_classes)\n",
    "\n",
    "model_rn = model_rn.to(device) #move model to this device\n",
    "\n",
    "\n",
    "\n",
    "#Loss function\n",
    "\n",
    "#criterion = nn.CrossEntropyLoss()\n",
    "#criterion = nn.BCELoss() \n",
    "criterion = nn.BCEWithLogitsLoss() #recommended for binary classificaion\n",
    "\n",
    "\n",
    "# Observe that all parameters are being optimized\n",
    "#optimizer = optim.SGD(model_ft.parameters(), lr=0.001)\n",
    "optimizer = optim.Adam(model_rn.parameters(), lr=0.001)\n",
    "\n",
    "# Decay LR by a factor of 0.1 every 7 epochs\n",
    "#exp_lr_scheduler = lr_scheduler.StepLR(optimizer_ft, step_size=7, gamma=0.1)"
   ]
  },
  {
   "cell_type": "code",
   "execution_count": 51,
   "id": "ff5e1f84-4467-42c3-8b3c-c3c53194e621",
   "metadata": {},
   "outputs": [],
   "source": [
    "#Pg. 479 pytorch book\n",
    "#modified to accomidate BCELoss format expectations in the pred output\n",
    "#Pg. 473\n",
    "#If returning 1 probablity from model(x_batch) (using [:,0]), then use BCE function\n",
    "#If retunring 2 proabability values, use Cross entropy loss function\n",
    "\n",
    "def train_2(model, num_epochs, train_d1, valid_d1):\n",
    "    loss_hist_train = [0] * num_epochs\n",
    "    accuracy_hist_train = [0] * num_epochs\n",
    "    loss_hist_valid = [0] * num_epochs\n",
    "    accuracy_hist_valid = [0] * num_epochs\n",
    "    \n",
    "    for epoch in range(num_epochs):\n",
    "        model.train() #set model to training mode\n",
    "        for x_batch, y_batch, in train_d1:\n",
    "            #output of forward pass a tensor with predictions for the batch\n",
    "            pred = model(x_batch)[:,0] #slicing the first column to make shapes match for BCE loss\n",
    "            #print(pred.size(), y_batch.size()) #use this to troubleshoot BCE error. Shapes should match\n",
    "        \n",
    "        #uncomment block\n",
    "            loss = criterion(pred, y_batch.float()) \n",
    "            loss.backward()\n",
    "            optimizer.step()\n",
    "            optimizer.zero_grad()\n",
    "            loss_hist_train[epoch] += loss.item()*y_batch.size(0)\n",
    "            is_correct = ((pred>=0.5).float() == y_batch).float() #calculating correct class from first column of pred tensor [:,0]\n",
    "            accuracy_hist_train[epoch] += is_correct.sum()\n",
    "        loss_hist_train[epoch] /= len(train_d1.dataset)\n",
    "        accuracy_hist_train[epoch] /= len(train_d1.dataset)\n",
    "        \n",
    "        model.eval() \n",
    "        all_preds = []\n",
    "        all_labels = []\n",
    "        \n",
    "        with torch.no_grad():\n",
    "            for x_batch, y_batch in valid_d1:\n",
    "                pred = model(x_batch)[:,0] #slicing the first column to make shapes match for BCE loss\n",
    "                 #save probabilities from previously trained model\n",
    "                outputs = model(x_batch)\n",
    "                #print(f'pred {pred}')\n",
    "                \n",
    "                #saving largest probabilities in each batch\n",
    "                #probabilities in logit format (from BCELoss)\n",
    "                probs, preds = torch.max(outputs,1) \n",
    "                #print(f'preds {preds}')\n",
    "                #print(f'probs {probs}')\n",
    "                \n",
    "                probability = torch.sigmoid(pred)\n",
    "                #probability = torch.sigmoid(outputs)[0]\n",
    "                #print(f'probability {probability}')\n",
    "                #print(f'true labels {y_batch}')\n",
    "                \n",
    "                \n",
    "               #uncomment block\n",
    "                loss = criterion(pred, y_batch.float()) #BCE expects floar\n",
    "                loss_hist_valid[epoch] += \\\n",
    "                    loss.item() * y_batch.size(0)\n",
    "                is_correct = \\\n",
    "                    ((pred>=0.5).float() == y_batch).float()\n",
    "                accuracy_hist_valid[epoch] += is_correct.sum()\n",
    "            loss_hist_valid[epoch] /= len(valid_d1.dataset)\n",
    "            accuracy_hist_valid[epoch] /= len(valid_d1.dataset)\n",
    "\n",
    "            #Preparing data for evaluation\n",
    "            #append values in list after loop   \n",
    "            all_preds.extend(preds.cpu().numpy())\n",
    "            all_labels.extend(y_batch.cpu().numpy())\n",
    "            #print(f'all preds 1 {all_preds}')\n",
    "            #print(f'all labels 1 {all_labels}')\n",
    "            \n",
    "            #convert to np array  \n",
    "            #all_preds = np.array(all_preds)\n",
    "            #all_labels = np.array(all_labels)\n",
    "\n",
    "        all_preds = np.array(all_preds)\n",
    "        all_labels = np.array(all_labels)\n",
    "            \n",
    "            #all_preds = torch.tensor(all_preds)\n",
    "            #all_labels = torch.tensor(all_labels)\n",
    "            #print(f'all preds {all_preds}')\n",
    "            #print(f'all labels {all_labels}')\n",
    "        \n",
    "\n",
    "        #uncomment block\n",
    "        print(f'Epoch {epoch+1} '\n",
    "              f'accuracy: {accuracy_hist_train[epoch]:.4f}, '\n",
    "              f'val_accuracy: {accuracy_hist_valid[epoch]:.4f}, '\n",
    "              f'train_loss: {loss_hist_train[epoch]:.4f}, '\n",
    "              f'val_loss: {loss_hist_valid[epoch]:.4f} ')\n",
    "\n",
    "            \n",
    "\n",
    "    # Compute precision\n",
    "    precision = precision_score(all_labels, all_preds, average='binary')  # Use 'micro', 'macro', or 'weighted' for multi-class\n",
    "    #calculate recall score\n",
    "    recall = recall_score(all_labels, all_preds, average='binary')\n",
    "    #Calculate f1 score\n",
    "    f1 = f1_score(all_labels, all_preds, average='binary')\n",
    "\n",
    "    # Calculate ROC AUC\n",
    "    #need to confirm if sigmoid function is needed (all_predictions vs all_preds\n",
    "    #auc = roc_auc_score(all_labels, all_predictions)\n",
    "    auc = roc_auc_score(all_labels, all_preds)\n",
    "        \n",
    "                    \n",
    "\n",
    "    print(f'Precision Score: {precision:.4f}, '\n",
    "          f'Recall Score: {recall:.4f}, '\n",
    "          f'F1 Score: {f1:.4f}, '\n",
    "          f'ROC AUC: {auc:.4f}'\n",
    "            )    \n",
    "\n",
    "    #for graph\n",
    "    fpr, tpr, thresholds = roc_curve(all_labels, all_preds) \n",
    "    roc_auc = metrics.auc(fpr, tpr)\n",
    "    \n",
    "    # Plot the ROC curve\n",
    "    #plt.figure()  \n",
    "    #plt.plot(fpr, tpr, label='ROC curve (area = %0.2f)' % roc_auc)\n",
    "    #plt.plot([0, 1], [0, 1], 'k--', label='No Skill')\n",
    "    #plt.xlim([0.0, 1.0])\n",
    "    #plt.ylim([0.0, 1.05])\n",
    "    #plt.xlabel('False Positive Rate')\n",
    "    #plt.ylabel('True Positive Rate')\n",
    "    #plt.title('ROC Curve for Beech Leaf Disease Classification')\n",
    "    #plt.legend()\n",
    "    #plt.show()\n",
    "\n",
    "    #returns these values that can be stored in a variable when the function is run\n",
    "    return loss_hist_train, loss_hist_valid, \\\n",
    "        accuracy_hist_train, accuracy_hist_valid, \\\n",
    "        precision, recall, f1, fpr, tpr, auc"
   ]
  },
  {
   "cell_type": "code",
   "execution_count": 52,
   "id": "4cfbab80-222e-457b-a8c2-f7c4a438fcd8",
   "metadata": {},
   "outputs": [
    {
     "name": "stdout",
     "output_type": "stream",
     "text": [
      "Epoch 1 accuracy: 0.7317, val_accuracy: 0.8077, train_loss: 0.4176, val_loss: 0.4705 \n",
      "Epoch 2 accuracy: 0.9024, val_accuracy: 0.7692, train_loss: 0.3134, val_loss: 1.2686 \n",
      "Precision Score: 0.0000, Recall Score: 0.0000, F1 Score: 0.0000, ROC AUC: 0.2500\n"
     ]
    }
   ],
   "source": [
    "#Train model not frozen\n",
    "torch.manual_seed(1)\n",
    "num_epochs = 2\n",
    "hist = train_2(model_rn, num_epochs, trainloader, valloader)\n",
    "\n",
    "#print(len(hist))\n",
    "#print(hist[0:9])\n",
    "#saved variable 'hist' contains the values from each epoch of loss_hist_train [0],\n",
    "#loss_hist_valid [1], accuracy_hist_train [2], accuracy_hist_valid [3],\n",
    "#contains single value of precision [4], recall, [5], f1 [6], fpr [7], tpr [8], auc [9]"
   ]
  },
  {
   "cell_type": "code",
   "execution_count": 24,
   "id": "8e4b5a10-406b-45c3-a803-1e22024e4aee",
   "metadata": {},
   "outputs": [
    {
     "name": "stdout",
     "output_type": "stream",
     "text": [
      "Precision Score: 0.1429\n",
      "Recall Score: 0.3333\n",
      "F1 Score: 0.2\n",
      "False Positive Rate: [0.         0.85714286 1.        ]\n",
      "True Positive Rate: [0.         0.33333333 1.        ]\n",
      "ROC AUC: 0.2380952380952381\n"
     ]
    }
   ],
   "source": [
    "print(f'Precision Score: {hist[4]:.4f}')\n",
    "print(f'Recall Score: {hist[5]:.4f}')\n",
    "print(f'F1 Score: {hist[6]}')\n",
    "print(f'False Positive Rate: {hist[7]}')\n",
    "print(f'True Positive Rate: {hist[8]}')\n",
    "print(f'ROC AUC: {hist[9]}')"
   ]
  },
  {
   "cell_type": "code",
   "execution_count": null,
   "id": "f7fcac06-298c-4c6f-ba4c-8bf537b4c9c1",
   "metadata": {},
   "outputs": [],
   "source": []
  },
  {
   "cell_type": "code",
   "execution_count": 23,
   "id": "d6888e36-70ae-4309-bfd9-d14ef9496a2c",
   "metadata": {},
   "outputs": [
    {
     "data": {
      "image/png": "[encoded data removed]",
      "text/plain": [
       "<Figure size 864x288 with 2 Axes>"
      ]
     },
     "metadata": {
      "needs_background": "light"
     },
     "output_type": "display_data"
    }
   ],
   "source": [
    "#Plot learning curve\n",
    "x_arr = np.arange(len(hist[0])) + 1\n",
    "fig = plt.figure(figsize=(12,4))\n",
    "ax = fig.add_subplot(1, 2, 1)\n",
    "ax.plot(x_arr, hist[0], '-o', label='Train loss')\n",
    "ax.plot(x_arr, hist[1], '--<', label='Validation loss')\n",
    "ax.legend(fontsize = 15)\n",
    "ax = fig.add_subplot(1, 2, 2)\n",
    "ax.plot(x_arr, hist[2], '-o', label='Train accuracy')\n",
    "ax.plot(x_arr, hist[3], '--<',\n",
    "        label='Validation accuracy')\n",
    "ax.legend(fontsize=15)\n",
    "ax.set_xlabel('Epoch', size = 15)\n",
    "ax.set_ylabel('Accuracy', size=15)\n",
    "plt.show()\n",
    "\n",
    "\n"
   ]
  },
  {
   "cell_type": "code",
   "execution_count": 28,
   "id": "35e2fd88-0ce5-4e2a-a221-147962839c51",
   "metadata": {},
   "outputs": [
    {
     "data": {
      "image/png": "[encoded data removed]",
      "text/plain": [
       "<Figure size 432x288 with 1 Axes>"
      ]
     },
     "metadata": {
      "needs_background": "light"
     },
     "output_type": "display_data"
    }
   ],
   "source": [
    "# Plot the ROC curve\n",
    "#fpr is hist[7]\n",
    "#tpr is hist[8]\n",
    "#roc_auc is hist[9]\n",
    "\n",
    "plt.figure()  \n",
    "plt.plot(hist[7], hist[8], label='ROC curve (area = %0.2f)' % hist[9])\n",
    "plt.plot([0, 1], [0, 1], 'k--', label='50-50 guess')\n",
    "plt.xlim([0.0, 1.0])\n",
    "plt.ylim([0.0, 1.05])\n",
    "plt.xlabel('False Positive Rate')\n",
    "plt.ylabel('True Positive Rate')\n",
    "plt.title('ROC Curve for Beech Leaf Disease Classification')\n",
    "plt.legend()\n",
    "plt.show()"
   ]
  },
  {
   "cell_type": "code",
   "execution_count": null,
   "id": "f848fc33-8276-4a6d-acf4-2bdfb3998eea",
   "metadata": {},
   "outputs": [],
   "source": []
  },
  {
   "cell_type": "code",
   "execution_count": null,
   "id": "2335d1c9-672a-46c7-999c-dd96a8270570",
   "metadata": {},
   "outputs": [],
   "source": []
  },
  {
   "cell_type": "code",
   "execution_count": null,
   "id": "2b9846fe-27be-463a-bab5-7e364f28992d",
   "metadata": {},
   "outputs": [],
   "source": []
  }
 ],
 "metadata": {
  "kernelspec": {
   "display_name": "ipykernel",
   "language": "python",
   "name": "ipykernel"
  },
  "language_info": {
   "codemirror_mode": {
    "name": "ipython",
    "version": 3
   },
   "file_extension": ".py",
   "mimetype": "text/x-python",
   "name": "python",
   "nbconvert_exporter": "python",
   "pygments_lexer": "ipython3",
   "version": "3.8.12"
  }
 },
 "nbformat": 4,
 "nbformat_minor": 5
}
