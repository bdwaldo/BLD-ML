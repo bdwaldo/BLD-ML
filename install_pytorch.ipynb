{
 "cells": [
  {
   "cell_type": "code",
   "execution_count": null,
   "id": "e6b6e974-97c3-42d6-88b3-c70d62c05bf6",
   "metadata": {},
   "outputs": [],
   "source": [
    "#install pytorch\n",
    "#this has been quite a process. I accidently overfilled my home directly and got locked out of Atlas\n",
    "#Current versions of CUDA on ATLAS do not support pytorch\n",
    "#found a scinet forum post that seems to provide a workaround using a nightly build\n",
    "#https://forum.scinet.usda.gov/t/cuda-version-in-atlas-for-deep-learning/1567/2\n",
    "#https://pytorch.org/get-started/locally/"
   ]
  },
  {
   "cell_type": "code",
   "execution_count": null,
   "id": "4c3d069a-e226-4a77-be2b-a18168d16ae1",
   "metadata": {},
   "outputs": [],
   "source": []
  },
  {
   "cell_type": "code",
   "execution_count": null,
   "id": "25f3ad45-b414-4cf9-b616-4c322a3e93e8",
   "metadata": {},
   "outputs": [],
   "source": [
    "#log into atlas and run in powershell terminal\n",
    "#go to directory and activate env\n",
    "cd /project/90daydata/nematode_ml/BLD\n",
    "conda activate ./bld_env\n"
   ]
  },
  {
   "cell_type": "code",
   "execution_count": null,
   "id": "4ae7e755-2194-434c-9d61-6e34b8f6c243",
   "metadata": {},
   "outputs": [],
   "source": [
    "#install pytorch using nightly build\n",
    "#https://forum.scinet.usda.gov/t/cuda-version-in-atlas-for-deep-learning/1567/2\n",
    "pip3 install --pre torch torchvision torchaudio --index-url https://download.pytorch.org/whl/nightly/cu124\n",
    "\n",
    "#UPDATE 3-5-25\n",
    "#https://stackoverflow.com/questions/70986821/error-could-not-find-a-version-that-satisfies-the-requirement-torch-from-version\n",
    "pip3 install --pre torch -f https://download.pytorch.org/whl/nightly/cpu/torch_nightly.html"
   ]
  },
  {
   "cell_type": "code",
   "execution_count": null,
   "id": "d2d92a9b-bea2-4508-a596-012d32f7f5e5",
   "metadata": {},
   "outputs": [],
   "source": [
    "#list packages in env\n",
    "conda env list"
   ]
  },
  {
   "cell_type": "code",
   "execution_count": null,
   "id": "fcf43185-6939-4c4c-a0bd-f871b94b9cdf",
   "metadata": {},
   "outputs": [],
   "source": [
    "#activate python to check if pytorch is installed\n",
    "#https://pytorch.org/get-started/locally/\n",
    "python"
   ]
  },
  {
   "cell_type": "code",
   "execution_count": 4,
   "id": "aa5e4412-48d8-48f0-80ba-bd684206d3c5",
   "metadata": {},
   "outputs": [
    {
     "ename": "ModuleNotFoundError",
     "evalue": "No module named 'torch'",
     "output_type": "error",
     "traceback": [
      "\u001b[0;31m---------------------------------------------------------------------------\u001b[0m",
      "\u001b[0;31mModuleNotFoundError\u001b[0m                       Traceback (most recent call last)",
      "Cell \u001b[0;32mIn[4], line 1\u001b[0m\n\u001b[0;32m----> 1\u001b[0m \u001b[38;5;28;01mimport\u001b[39;00m \u001b[38;5;21;01mtorch\u001b[39;00m\n",
      "\u001b[0;31mModuleNotFoundError\u001b[0m: No module named 'torch'"
     ]
    }
   ],
   "source": [
    "#check if pytorch is there\n",
    "#https://pytorch.org/get-started/locally/\n",
    "import torch\n",
    "x = torch.rand(5, 3)\n",
    "print(x)"
   ]
  },
  {
   "cell_type": "code",
   "execution_count": 4,
   "id": "ed073181-9615-41fb-9d5a-20bd928ecbaf",
   "metadata": {},
   "outputs": [
    {
     "ename": "ModuleNotFoundError",
     "evalue": "No module named 'torchvision'",
     "output_type": "error",
     "traceback": [
      "\u001b[0;31m---------------------------------------------------------------------------\u001b[0m",
      "\u001b[0;31mModuleNotFoundError\u001b[0m                       Traceback (most recent call last)",
      "Input \u001b[0;32mIn [4]\u001b[0m, in \u001b[0;36m<module>\u001b[0;34m\u001b[0m\n\u001b[1;32m      2\u001b[0m \u001b[38;5;28;01mimport\u001b[39;00m \u001b[38;5;21;01mos\u001b[39;00m\n\u001b[1;32m      3\u001b[0m \u001b[38;5;28;01mimport\u001b[39;00m \u001b[38;5;21;01mcv2\u001b[39;00m\n\u001b[0;32m----> 4\u001b[0m \u001b[38;5;28;01mfrom\u001b[39;00m \u001b[38;5;21;01mtorchvision\u001b[39;00m \u001b[38;5;28;01mimport\u001b[39;00m datasets, transforms\n\u001b[1;32m      5\u001b[0m \u001b[38;5;28;01mfrom\u001b[39;00m \u001b[38;5;21;01mtorch\u001b[39;00m\u001b[38;5;21;01m.\u001b[39;00m\u001b[38;5;21;01mutils\u001b[39;00m\u001b[38;5;21;01m.\u001b[39;00m\u001b[38;5;21;01mdata\u001b[39;00m \u001b[38;5;28;01mimport\u001b[39;00m DataLoader\n",
      "\u001b[0;31mModuleNotFoundError\u001b[0m: No module named 'torchvision'"
     ]
    }
   ],
   "source": []
  },
  {
   "cell_type": "code",
   "execution_count": 3,
   "id": "e4a0d682-ffcf-4adb-aee9-d48ecb799955",
   "metadata": {},
   "outputs": [
    {
     "ename": "NameError",
     "evalue": "name 'transforms' is not defined",
     "output_type": "error",
     "traceback": [
      "\u001b[0;31m---------------------------------------------------------------------------\u001b[0m",
      "\u001b[0;31mNameError\u001b[0m                                 Traceback (most recent call last)",
      "Input \u001b[0;32mIn [3]\u001b[0m, in \u001b[0;36m<module>\u001b[0;34m\u001b[0m\n\u001b[1;32m      1\u001b[0m \u001b[38;5;66;03m# Define a transform to apply to the images\u001b[39;00m\n\u001b[0;32m----> 2\u001b[0m transform \u001b[38;5;241m=\u001b[39m \u001b[43mtransforms\u001b[49m\u001b[38;5;241m.\u001b[39mCompose([\n\u001b[1;32m      3\u001b[0m     transforms\u001b[38;5;241m.\u001b[39mResize((\u001b[38;5;241m128\u001b[39m, \u001b[38;5;241m128\u001b[39m)),\n\u001b[1;32m      4\u001b[0m     transforms\u001b[38;5;241m.\u001b[39mToTensor()\n\u001b[1;32m      5\u001b[0m ])\n",
      "\u001b[0;31mNameError\u001b[0m: name 'transforms' is not defined"
     ]
    }
   ],
   "source": []
  },
  {
   "cell_type": "code",
   "execution_count": null,
   "id": "4df672af-8631-4a0f-9479-9f3f879745d4",
   "metadata": {},
   "outputs": [],
   "source": []
  },
  {
   "cell_type": "code",
   "execution_count": null,
   "id": "e12a711c-d68b-4be9-b45d-c2fc940a8ec5",
   "metadata": {},
   "outputs": [],
   "source": []
  },
  {
   "cell_type": "code",
   "execution_count": null,
   "id": "2ca98f86-bea0-4cf3-a189-e26877749621",
   "metadata": {},
   "outputs": [],
   "source": []
  },
  {
   "cell_type": "code",
   "execution_count": 2,
   "id": "3c43fdb7-f08f-4907-814d-40ee2b0d0ff9",
   "metadata": {},
   "outputs": [
    {
     "name": "stdout",
     "output_type": "stream",
     "text": [
      "/project/90daydata/nematode_ml/BLD\n"
     ]
    }
   ],
   "source": []
  },
  {
   "cell_type": "code",
   "execution_count": 3,
   "id": "f7f2b34a-c6f1-402d-aa07-800f58729785",
   "metadata": {},
   "outputs": [
    {
     "data": {
      "text/plain": [
       "['/project/90daydata/nematode_ml/BLD/bld_env/lib/python313.zip',\n",
       " '/project/90daydata/nematode_ml/BLD/bld_env/lib/python3.13',\n",
       " '/project/90daydata/nematode_ml/BLD/bld_env/lib/python3.13/lib-dynload',\n",
       " '',\n",
       " '/project/90daydata/nematode_ml/BLD/bld_env/lib/python3.13/site-packages']"
      ]
     },
     "execution_count": 3,
     "metadata": {},
     "output_type": "execute_result"
    }
   ],
   "source": []
  },
  {
   "cell_type": "code",
   "execution_count": 4,
   "id": "e0d8ed23-4a1f-45cd-b2ab-97a248e9de7f",
   "metadata": {},
   "outputs": [],
   "source": []
  },
  {
   "cell_type": "code",
   "execution_count": 5,
   "id": "0df66cee-35fe-4c4c-8cda-cc7d98beaa37",
   "metadata": {},
   "outputs": [],
   "source": []
  },
  {
   "cell_type": "code",
   "execution_count": null,
   "id": "f6974dc2-42ee-48c0-922d-9cce6c4d057d",
   "metadata": {},
   "outputs": [],
   "source": []
  },
  {
   "cell_type": "code",
   "execution_count": null,
   "id": "46574fdc-cc67-4ac7-a387-2a0ca86047b5",
   "metadata": {},
   "outputs": [],
   "source": [
    "#import data"
   ]
  },
  {
   "cell_type": "code",
   "execution_count": null,
   "id": "647d185f-58dc-46b2-b948-8309ec905e04",
   "metadata": {},
   "outputs": [],
   "source": [
    "#preprocess data"
   ]
  },
  {
   "cell_type": "code",
   "execution_count": null,
   "id": "5961478b-332d-4040-a5d0-fc783ea6353c",
   "metadata": {},
   "outputs": [],
   "source": [
    "#split data"
   ]
  },
  {
   "cell_type": "code",
   "execution_count": null,
   "id": "0851c30d-e9fa-4ac0-87c7-afc04d94be59",
   "metadata": {},
   "outputs": [],
   "source": [
    "#convert data to dataframe"
   ]
  },
  {
   "cell_type": "code",
   "execution_count": null,
   "id": "5af69d52-c1e5-42d4-93a8-d73f4eea8e11",
   "metadata": {},
   "outputs": [],
   "source": [
    "#define model"
   ]
  }
 ],
 "metadata": {
  "kernelspec": {
   "display_name": "BLD",
   "language": "python",
   "name": "bld"
  },
  "language_info": {
   "codemirror_mode": {
    "name": "ipython",
    "version": 3
   },
   "file_extension": ".py",
   "mimetype": "text/x-python",
   "name": "python",
   "nbconvert_exporter": "python",
   "pygments_lexer": "ipython3",
   "version": "3.13.0"
  }
 },
 "nbformat": 4,
 "nbformat_minor": 5
}
