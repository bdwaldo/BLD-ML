{
 "cells": [
  {
   "cell_type": "code",
   "execution_count": null,
   "id": "afa55199-36e3-4e6e-8ac0-5afcf79d2c85",
   "metadata": {},
   "outputs": [],
   "source": []
  },
  {
   "cell_type": "code",
   "execution_count": 1,
   "id": "32925f00-4704-450b-8d7f-569667d9099d",
   "metadata": {},
   "outputs": [],
   "source": [
    "#import packages\n",
    "import os\n",
    "import torch.nn as nn\n",
    "import torch.optim as optim\n",
    "import numpy as np\n",
    "from PIL import Image\n",
    "import torchvision.transforms.functional as F\n",
    "from torchvision.transforms import v2\n",
    "import matplotlib.pyplot as plt\n",
    "import pathlib\n",
    "from torch.utils.data import Dataset\n",
    "\n",
    "import numpy as np\n",
    "#from sklearn.model_selection import train_test_split\n",
    "from sklearn import metrics\n",
    "from sklearn.metrics import precision_score, recall_score, f1_score, roc_curve, auc, roc_auc_score\n",
    "\n",
    "import torchvision.transforms as transforms\n",
    "from torchvision.datasets import ImageFolder\n",
    "import torch\n",
    "import torchvision\n",
    "from torchvision.models import resnet50, ResNet50_Weights"
   ]
  },
  {
   "cell_type": "code",
   "execution_count": 11,
   "id": "8f23d057-2f96-4952-9410-b628d1526594",
   "metadata": {},
   "outputs": [],
   "source": []
  },
  {
   "cell_type": "code",
   "execution_count": 2,
   "id": "bfd61b49-fb33-4dc3-bf89-58227b157bd9",
   "metadata": {},
   "outputs": [],
   "source": [
    "#good practice to provide class labels as integer arrays\n",
    "\n",
    "CLASSES = [\"BLD\", \"No BLD\"]\n",
    "class_mapping = {label: idx for idx, label in\n",
    "                 enumerate(np.unique([CLASSES]))}\n"
   ]
  },
  {
   "cell_type": "code",
   "execution_count": 3,
   "id": "cd71d992-de3c-45d3-8dda-ecf705c3fa52",
   "metadata": {},
   "outputs": [],
   "source": [
    "#dictonary to modify transformations\n",
    "config = dict(\n",
    "    rot=90,\n",
    "    noise=0.05\n",
    ")"
   ]
  },
  {
   "cell_type": "code",
   "execution_count": 15,
   "id": "7a3abf45-51df-4076-8cbe-f14e49d0cb88",
   "metadata": {},
   "outputs": [],
   "source": [
    "#make sure image input size matches expected size for the spcific models\n",
    "\n",
    "train_transform = transforms.Compose(\n",
    "    #384x384 for efficientnet\n",
    "    #224x225 for ResNEt and MobileNEt\n",
    "    #256x256 for Swin\n",
    "    [transforms.Resize([224,224]), #converts image to the pre-trained model dimension expectations\n",
    "     #transforms.RandomRotation(degrees=config[\"rot\"]),\n",
    "     #transforms.RandomVerticalFlip(p=0.5),\n",
    "     #transforms.RandomHorizontalFlip(p=0.5),\n",
    "     transforms.Grayscale(3),\n",
    "     transforms.ToTensor(), #Converts a PIL Image or numpy.ndarray (H x W x C) in the range [0, 255] to a torch.FloatTensor of shape (C x H x W) in the range [0.0, 1.0]\n",
    "     transforms.Normalize(mean=(0.485, 0.456, 0.406), std=(0.229, 0.224, 0.225)),#this is a standard RGB mean and std\n",
    "    ])\n",
    "\n",
    "#validation preprocessing\n",
    "val_transform = transforms.Compose(\n",
    "    [transforms.Resize([224,224]), #converts image to the pre-trained model dimension expectations\n",
    "     transforms.Grayscale(3),\n",
    "     transforms.ToTensor(),\n",
    "     transforms.Normalize(mean=(0.485, 0.456, 0.406), std=(0.229, 0.224, 0.225)),#this is a standard RGB mean and std\n",
    "     ])\n",
    "     "
   ]
  },
  {
   "cell_type": "code",
   "execution_count": 16,
   "id": "26a7a6a5-238b-4d9b-843a-551e2b0a8b5d",
   "metadata": {},
   "outputs": [],
   "source": [
    "#import data\n",
    "#images in directories converted to tensor format and classes obtained from direcory names\n",
    "#add test folder once get more data\n",
    "\n",
    "train_dataset = torchvision.datasets.ImageFolder(root='/project/90daydata/nematode_ml/BLD/NematodeDataset/train', transform=train_transform)\n",
    "#test_dataset = torchvision.datasets.ImageFolder(root='/project/90daydata/nematode_ml/BLD/NematodeDataset/test', transform=val_transform)\n",
    "val_dataset = torchvision.datasets.ImageFolder(root='/project/90daydata/nematode_ml/BLD/NematodeDataset/val', transform=val_transform)"
   ]
  },
  {
   "cell_type": "code",
   "execution_count": 17,
   "id": "4ea1f1a1-2289-400e-9601-ca9b1476402e",
   "metadata": {},
   "outputs": [
    {
     "name": "stdout",
     "output_type": "stream",
     "text": [
      "torch.Size([3, 224, 224])\n"
     ]
    }
   ],
   "source": [
    "# Access the transformed image\n",
    "image, label = train_dataset[0]\n",
    "# Check the size of the transformed image\n",
    "print(image.shape) #retuns [channel, height, width]. 3 indicates color. During training an additional element is added, batch_size\n"
   ]
  },
  {
   "cell_type": "code",
   "execution_count": 7,
   "id": "c9af148e-2cf2-42ef-93ae-02e4ee2e46fd",
   "metadata": {},
   "outputs": [
    {
     "data": {
      "text/plain": [
       "{'BLD': 0, 'No_BLD': 1}"
      ]
     },
     "execution_count": 7,
     "metadata": {},
     "output_type": "execute_result"
    }
   ],
   "source": [
    "#check class names\n",
    "train_dataset.class_to_idx"
   ]
  },
  {
   "cell_type": "code",
   "execution_count": null,
   "id": "885e0e15-5d07-49bc-83be-35f8034f04c3",
   "metadata": {},
   "outputs": [],
   "source": [
    "#check number of images in each set\n",
    "print(f'Number of images in training dataset: {len(train_dataset)}')\n",
    "#print(f'Number of images in testing dataset: {len(test_dataset)}')\n",
    "print(f'Number of images in validation dataset: {len(val_dataset)}')"
   ]
  },
  {
   "cell_type": "code",
   "execution_count": null,
   "id": "05b4269b-fc8f-4e2b-9362-3a8aae8e2ca6",
   "metadata": {},
   "outputs": [],
   "source": [
    "#Bing\n",
    "#how to print example of each image class from dataset pytorch\n",
    "#fix unnormalize image in display\n",
    "\n",
    "# Create a dictionary to store one example per class\n",
    "class_examples = {}\n",
    "\n",
    "# Iterate through the dataset to find one example per class\n",
    "for img, label in train_dataset:\n",
    "    if label not in class_examples:\n",
    "        class_examples[label] = img\n",
    "    if len(class_examples) == len(train_dataset.classes):\n",
    "        break\n",
    "\n",
    "# Plot the examples\n",
    "fig, axes = plt.subplots(1, len(class_examples), figsize=(15, 5))\n",
    "for idx, (label, img) in enumerate(class_examples.items()):\n",
    "    axes[idx].imshow(img.permute(1, 2, 0))\n",
    "    axes[idx].set_title(train_dataset.classes[label])\n",
    "    axes[idx].axis('off')\n"
   ]
  },
  {
   "cell_type": "code",
   "execution_count": 18,
   "id": "1ce364ea-16ab-4640-8692-be8a11ef8769",
   "metadata": {},
   "outputs": [],
   "source": [
    "#a hyperparameter to try changing\n",
    "#batch_size = 4\n",
    "batch_size = 16\n",
    "#batch_size = 32"
   ]
  },
  {
   "cell_type": "code",
   "execution_count": 19,
   "id": "4af59d57-266c-44e4-9ccc-1562d7941fe7",
   "metadata": {},
   "outputs": [],
   "source": [
    "#dataloader\n",
    "#output a batch of images and labels, one sample at a time\n",
    "\n",
    "trainloader = torch.utils.data.DataLoader(train_dataset, batch_size=batch_size,\n",
    "                                          shuffle=True)\n",
    "#testloader = torch.utils.data.DataLoader(test_dataset, batch_size=batch_size,\n",
    "#                                         shuffle=True)\n",
    "valloader = torch.utils.data.DataLoader(val_dataset, batch_size=batch_size,\n",
    "                                         shuffle=True)\n",
    "\n"
   ]
  },
  {
   "cell_type": "code",
   "execution_count": 10,
   "id": "603ad68f-88ad-43c7-8255-c5e1eba482de",
   "metadata": {},
   "outputs": [
    {
     "name": "stdout",
     "output_type": "stream",
     "text": [
      "tensor([1, 0, 0, 0, 0, 0, 0, 0, 1, 1, 1, 0, 0, 1, 0, 0])\n"
     ]
    }
   ],
   "source": [
    "#print class for each sample in batch\n",
    "train_features, train_labels = next(iter(trainloader))\n",
    "print(train_labels)"
   ]
  },
  {
   "cell_type": "code",
   "execution_count": null,
   "id": "46140c31-3770-415a-8ce6-136e9249bdc8",
   "metadata": {},
   "outputs": [],
   "source": [
    "# Display image and label.\n",
    "#to pull out a single image and label, first put in individual variables\n",
    "#https://stackoverflow.com/questions/61480762/python-matplotlib-invalid-shape-for-image-data\n",
    "\n",
    "train_features, train_labels = next(iter(trainloader))\n",
    "print(f\"Feature batch shape: {train_features.size()}\")\n",
    "print(f\"Labels batch shape (number): {train_labels.size()}\")\n",
    "img = train_features[0].numpy().transpose((1, 2, 0)) #changing the channel and dimension order for plotting\n",
    "mean = np.array([0.485, 0.456, 0.406])\n",
    "std = np.array([0.229, 0.224, 0.225])\n",
    "img = std * img + mean\n",
    "img = np.clip(img, 0, 1)\n",
    "label = train_labels[0]\n",
    "plt.imshow(img, cmap=\"gray\")\n",
    "plt.show()\n",
    "print(f\"Label: {[CLASSES[label]]}\")\n",
    "print(f\"Label: {train_labels[0]}\")"
   ]
  },
  {
   "cell_type": "code",
   "execution_count": null,
   "id": "8d659feb-20c5-4cb8-a3b0-69dc012d91eb",
   "metadata": {},
   "outputs": [],
   "source": [
    "#https://pytorch.org/tutorials/beginner/transfer_learning_tutorial.html\n",
    "\n",
    "def imshow(inp, title=None):\n",
    "    \"\"\"Display image for Tensor.\"\"\"\n",
    "    inp = inp.numpy().transpose((1, 2, 0))\n",
    "    mean = np.array([0.485, 0.456, 0.406])\n",
    "    std = np.array([0.229, 0.224, 0.225])\n",
    "    inp = std * inp + mean\n",
    "    inp = np.clip(inp, 0, 1)\n",
    "    plt.imshow(inp)\n",
    "    if title is not None:\n",
    "        plt.title(title)\n",
    "    plt.pause(0.001)  # pause a bit so that plots are updated\n",
    "\n",
    "\n",
    "# Get a batch of training data\n",
    "inputs, classes = next(iter(trainloader))\n",
    "\n",
    "# Make a grid from batch\n",
    "out = torchvision.utils.make_grid(inputs)\n",
    "\n",
    "imshow(out, title=[CLASSES[x] for x in classes])\n",
    "print(classes)"
   ]
  },
  {
   "cell_type": "code",
   "execution_count": null,
   "id": "5c81d72d-7491-44ae-b749-4654f224b5d4",
   "metadata": {},
   "outputs": [],
   "source": []
  },
  {
   "cell_type": "code",
   "execution_count": 25,
   "id": "79db791e-d37d-4262-b86a-37f14d7f828f",
   "metadata": {},
   "outputs": [
    {
     "ename": "NameError",
     "evalue": "name 'precision' is not defined",
     "output_type": "error",
     "traceback": [
      "\u001b[0;31m---------------------------------------------------------------------------\u001b[0m",
      "\u001b[0;31mNameError\u001b[0m                                 Traceback (most recent call last)",
      "Input \u001b[0;32mIn [25]\u001b[0m, in \u001b[0;36m<module>\u001b[0;34m\u001b[0m\n\u001b[1;32m      2\u001b[0m \u001b[38;5;28;01mdel\u001b[39;00m optimizer\n\u001b[1;32m      3\u001b[0m \u001b[38;5;28;01mdel\u001b[39;00m criterion\n\u001b[0;32m----> 4\u001b[0m \u001b[38;5;28;01mdel\u001b[39;00m precision\n\u001b[1;32m      5\u001b[0m \u001b[38;5;28;01mdel\u001b[39;00m recall\n\u001b[1;32m      6\u001b[0m \u001b[38;5;28;01mdel\u001b[39;00m f1\n",
      "\u001b[0;31mNameError\u001b[0m: name 'precision' is not defined"
     ]
    }
   ],
   "source": [
    "#del model\n",
    "del optimizer\n",
    "del criterion\n",
    "\n",
    "\n"
   ]
  },
  {
   "cell_type": "code",
   "execution_count": 20,
   "id": "c259430d-faa8-41a3-8d3c-3c41b98675b3",
   "metadata": {},
   "outputs": [],
   "source": [
    "#Import model for training\n",
    "\n",
    "#ResNet50 \n",
    "weights = ResNet50_Weights.DEFAULT\n",
    "model_RN = torchvision.models.resnet50(weights=weights)\n"
   ]
  },
  {
   "cell_type": "code",
   "execution_count": 21,
   "id": "87c03d9a-fbe5-4c10-8451-3b7137a04907",
   "metadata": {},
   "outputs": [],
   "source": [
    "#ResNet\n",
    "#Intitalize model, not freezing layers\n",
    "device = torch.device(\"cuda\" if torch.cuda.is_available() else \"cpu\")\n",
    "\n",
    "#freeze layers\n",
    "for param in model_RN.parameters():\n",
    "    param.requires_grad = False\n",
    "\n",
    "model_rn = model_RN\n",
    "num_ftrs = model_rn.fc.in_features #print this out to confirm a value\n",
    "\n",
    "num_classes = 2  # Replace with the number of classes in your dataset\n",
    "# Alternatively, it can be generalized to ``nn.Linear(num_ftrs, len(class_names))``.\n",
    "model_rn.fc = nn.Linear(in_features=model_rn.fc.in_features, out_features=num_classes)\n",
    "\n",
    "model_rn = model_rn.to(device) #move model to this device\n",
    "\n",
    "\n",
    "\n",
    "#Loss function\n",
    "\n",
    "#criterion = nn.CrossEntropyLoss()\n",
    "#criterion = nn.BCELoss() \n",
    "criterion = nn.BCEWithLogitsLoss() #recommended for binary classificaion\n",
    "\n",
    "\n",
    "# Observe that all parameters are being optimized\n",
    "#optimizer = optim.SGD(model_ft.parameters(), lr=0.001)\n",
    "optimizer = optim.Adam(model_rn.parameters(), lr=0.001)\n",
    "\n",
    "# Decay LR by a factor of 0.1 every 7 epochs\n",
    "#exp_lr_scheduler = lr_scheduler.StepLR(optimizer_ft, step_size=7, gamma=0.1)"
   ]
  },
  {
   "cell_type": "code",
   "execution_count": 22,
   "id": "3a4d3445-ab7f-42e2-99e6-690ee34b0326",
   "metadata": {},
   "outputs": [],
   "source": [
    "#Pg. 479 pytorch book\n",
    "#modified to accomidate BCELoss format expectations in the pred output\n",
    "#Pg. 473\n",
    "#If returning 1 probablity from model(x_batch) (using [:,0]), then use BCE function\n",
    "#If retunring 2 proabability values, use Cross entropy loss function\n",
    "\n",
    "def train_1(model, num_epochs, train_d1, valid_d1):\n",
    "    loss_hist_train = [0] * num_epochs\n",
    "    accuracy_hist_train = [0] * num_epochs\n",
    "    loss_hist_valid = [0] * num_epochs\n",
    "    accuracy_hist_valid = [0] * num_epochs\n",
    "    \n",
    "    for epoch in range(num_epochs):\n",
    "        model.train() #set model to training mode\n",
    "        for x_batch, y_batch, in train_d1:\n",
    "            #output of forward pass a tensor with predictions for the batch\n",
    "            pred = model(x_batch)[:,0] #slicing the first column to make shapes match for BCE loss\n",
    "            #print(pred.size(), y_batch.size()) #use this to troubleshoot BCE error. Shapes should match\n",
    "        \n",
    "        #uncomment block\n",
    "            loss = criterion(pred, y_batch.float()) \n",
    "            loss.backward()\n",
    "            optimizer.step()\n",
    "            optimizer.zero_grad()\n",
    "            loss_hist_train[epoch] += loss.item()*y_batch.size(0)\n",
    "            is_correct = ((pred>=0.5).float() == y_batch).float() #calculating correct class from first column of pred tensor [:,0]\n",
    "            accuracy_hist_train[epoch] += is_correct.sum()\n",
    "        loss_hist_train[epoch] /= len(train_d1.dataset)\n",
    "        accuracy_hist_train[epoch] /= len(train_d1.dataset)\n",
    "        \n",
    "        model.eval() \n",
    "        all_preds = []\n",
    "        all_labels = []\n",
    "        \n",
    "        with torch.no_grad():\n",
    "            for x_batch, y_batch in valid_d1:\n",
    "                pred = model(x_batch)[:,0] #slicing the first column to make shapes match for BCE loss\n",
    "                 #save probabilities from previously trained model\n",
    "                outputs = model(x_batch)\n",
    "\n",
    "                #saving largest probabilities in each batch\n",
    "                probs, preds = torch.max(outputs,1) \n",
    "                #print(probs)\n",
    "                #print(preds)\n",
    "                \n",
    "                \n",
    "               #uncomment block\n",
    "                loss = criterion(pred, y_batch.float()) #BCE expects floar\n",
    "                loss_hist_valid[epoch] += \\\n",
    "                    loss.item() * y_batch.size(0)\n",
    "                is_correct = \\\n",
    "                    ((pred>=0.5).float() == y_batch).float()\n",
    "                accuracy_hist_valid[epoch] += is_correct.sum()\n",
    "            loss_hist_valid[epoch] /= len(valid_d1.dataset)\n",
    "            accuracy_hist_valid[epoch] /= len(valid_d1.dataset)\n",
    "\n",
    "            #Preparing data for evaluation\n",
    "            #append values in list after loop   \n",
    "            all_preds.extend(preds.cpu().numpy())\n",
    "            all_labels.extend(y_batch.cpu().numpy())\n",
    "            #convert to np array  \n",
    "            #all_preds = np.array(all_preds)\n",
    "            #all_labels = np.array(all_labels)\n",
    "            \n",
    "            #all_preds = torch.tensor(all_preds)\n",
    "            all_labels = torch.tensor(all_labels)\n",
    "            #print(all_preds)\n",
    "            #print(all_labels)\n",
    "        \n",
    "\n",
    "            #uncomment block\n",
    "            print(f'Epoch {epoch+1} ' \n",
    "                  f'accuracy: {accuracy_hist_train[epoch]:.4f}, '\n",
    "                  f'val_accuracy: {accuracy_hist_valid[epoch]:.4f}, '\n",
    "                  f'train_loss: {loss_hist_train[epoch]:.4f}, '\n",
    "                  f'val_loss: {loss_hist_valid[epoch]:.4f} ')\n",
    "\n",
    "            \n",
    "\n",
    "    # Compute precision\n",
    "    precision = precision_score(all_labels, all_preds, average='binary')  # Use 'micro', 'macro', or 'weighted' for multi-class\n",
    "    #calculate recall score\n",
    "    recall = recall_score(all_labels, all_preds, average='binary')\n",
    "    #Calculate f1 score\n",
    "    f1 = f1_score(all_labels, all_preds, average='binary')\n",
    "\n",
    "    # Calculate ROC AUC\n",
    "    #need to confirm if sigmoid function is needed (all_predictions vs all_preds\n",
    "    #auc = roc_auc_score(all_labels, all_predictions)\n",
    "    auc = roc_auc_score(all_labels, all_preds)\n",
    "        \n",
    "                    \n",
    "\n",
    "    print(f'Precision Score: {precision:.4f}, '\n",
    "          f'Recall Score: {recall:.4f}, '\n",
    "          f'F1 Score: {f1:.4f}, '\n",
    "          f'ROC AUC: {auc:.4f}'\n",
    "            )    \n",
    "\n",
    "    #for graph\n",
    "    fpr, tpr, thresholds = roc_curve(all_labels, all_preds) \n",
    "    roc_auc = metrics.auc(fpr, tpr)\n",
    "    \n",
    "    # Plot the ROC curve\n",
    "    #plt.figure()  \n",
    "    #plt.plot(fpr, tpr, label='ROC curve (area = %0.2f)' % roc_auc)\n",
    "    #plt.plot([0, 1], [0, 1], 'k--', label='No Skill')\n",
    "    #plt.xlim([0.0, 1.0])\n",
    "    #plt.ylim([0.0, 1.05])\n",
    "    #plt.xlabel('False Positive Rate')\n",
    "    #plt.ylabel('True Positive Rate')\n",
    "    #plt.title('ROC Curve for Beech Leaf Disease Classification')\n",
    "    #plt.legend()\n",
    "    #plt.show()\n",
    "\n",
    "    #returns these values that can be stored in a variable when the function is run\n",
    "    return loss_hist_train, loss_hist_valid, \\\n",
    "        accuracy_hist_train, accuracy_hist_valid, \\\n",
    "        precision, recall, f1, fpr, tpr, auc"
   ]
  },
  {
   "cell_type": "code",
   "execution_count": 23,
   "id": "39a82625-428d-4f44-8149-8df229dede4e",
   "metadata": {},
   "outputs": [
    {
     "name": "stdout",
     "output_type": "stream",
     "text": [
      "Epoch 1 accuracy: 0.6750, val_accuracy: 0.6154, train_loss: 0.6526, val_loss: 0.6569 \n",
      "Epoch 2 accuracy: 0.6750, val_accuracy: 0.6154, train_loss: 0.5987, val_loss: 0.6365 \n",
      "Epoch 3 accuracy: 0.6750, val_accuracy: 0.6154, train_loss: 0.5629, val_loss: 0.6081 \n",
      "Epoch 4 accuracy: 0.6750, val_accuracy: 0.6154, train_loss: 0.5354, val_loss: 0.6013 \n",
      "Epoch 5 accuracy: 0.6750, val_accuracy: 0.6154, train_loss: 0.4977, val_loss: 0.5992 \n",
      "Epoch 6 accuracy: 0.7125, val_accuracy: 0.6154, train_loss: 0.4438, val_loss: 0.5943 \n",
      "Epoch 7 accuracy: 0.7000, val_accuracy: 0.6154, train_loss: 0.4236, val_loss: 0.5713 \n",
      "Epoch 8 accuracy: 0.7500, val_accuracy: 0.6154, train_loss: 0.3771, val_loss: 0.5513 \n",
      "Epoch 9 accuracy: 0.7250, val_accuracy: 0.6154, train_loss: 0.3825, val_loss: 0.5451 \n",
      "Epoch 10 accuracy: 0.7500, val_accuracy: 0.6154, train_loss: 0.3556, val_loss: 0.5215 \n",
      "Precision Score: 0.2222, Recall Score: 0.6667, F1 Score: 0.3333, ROC AUC: 0.3333\n"
     ]
    }
   ],
   "source": [
    "#Train model not frozen\n",
    "torch.manual_seed(1)\n",
    "num_epochs = 10\n",
    "hist = train_1(model_rn, num_epochs, trainloader, valloader)\n",
    "\n",
    "#print(len(hist))\n",
    "#print(hist[0:9])\n",
    "#saved variable 'hist' contains the values from each epoch of loss_hist_train [0],\n",
    "#loss_hist_valid [1], accuracy_hist_train [2], accuracy_hist_valid [3],\n",
    "#contains single value of precision [4], recall, [5], f1 [6], fpr [7], tpr [8], auc [9]"
   ]
  },
  {
   "cell_type": "code",
   "execution_count": 24,
   "id": "265e2f00-7500-40d8-8d1e-994b6cf667c7",
   "metadata": {},
   "outputs": [
    {
     "name": "stdout",
     "output_type": "stream",
     "text": [
      "Precision Score: 0.2222222222222222\n",
      "Recall Score: 0.6666666666666666\n",
      "F1 Score: 0.3333333333333333\n",
      "False Positive Rate: [0. 1. 1.]\n",
      "True Positive Rate: [0.         0.66666667 1.        ]\n",
      "ROC AUC: 0.3333333333333333\n"
     ]
    }
   ],
   "source": [
    "print(f'Precision Score: {hist[4]}')\n",
    "print(f'Recall Score: {hist[5]}')\n",
    "print(f'F1 Score: {hist[6]}')\n",
    "print(f'False Positive Rate: {hist[7]}')\n",
    "print(f'True Positive Rate: {hist[8]}')\n",
    "print(f'ROC AUC: {hist[9]}')"
   ]
  },
  {
   "cell_type": "code",
   "execution_count": 25,
   "id": "b9fb4fff-b641-4144-b014-80164efeb425",
   "metadata": {},
   "outputs": [
    {
     "data": {
      "image/png": "[encoded data removed]",
      "text/plain": [
       "<Figure size 432x288 with 1 Axes>"
      ]
     },
     "metadata": {
      "needs_background": "light"
     },
     "output_type": "display_data"
    }
   ],
   "source": [
    "# Plot the ROC curve\n",
    "#fpr is hist[7]\n",
    "#tpr is hist[8]\n",
    "#roc_auc is hist[9]\n",
    "\n",
    "plt.figure()  \n",
    "plt.plot(hist[7], hist[8], label='ROC curve (area = %0.2f)' % hist[9])\n",
    "plt.plot([0, 1], [0, 1], 'k--', label='50-50 guess')\n",
    "plt.xlim([0.0, 1.0])\n",
    "plt.ylim([0.0, 1.05])\n",
    "plt.xlabel('False Positive Rate')\n",
    "plt.ylabel('True Positive Rate')\n",
    "plt.title('ROC Curve for Beech Leaf Disease Classification')\n",
    "plt.legend()\n",
    "plt.show()"
   ]
  },
  {
   "cell_type": "code",
   "execution_count": 26,
   "id": "ffc50aab-2b68-41b9-ae20-f74f93a5b3b7",
   "metadata": {},
   "outputs": [
    {
     "data": {
      "image/png": "[encoded data removed]",
      "text/plain": [
       "<Figure size 864x288 with 2 Axes>"
      ]
     },
     "metadata": {
      "needs_background": "light"
     },
     "output_type": "display_data"
    }
   ],
   "source": [
    "#Plot learning curve\n",
    "x_arr = np.arange(len(hist[0])) + 1\n",
    "fig = plt.figure(figsize=(12,4))\n",
    "ax = fig.add_subplot(1, 2, 1)\n",
    "ax.plot(x_arr, hist[0], '-o', label='Train loss')\n",
    "ax.plot(x_arr, hist[1], '--<', label='Validation loss')\n",
    "ax.legend(fontsize = 15)\n",
    "ax = fig.add_subplot(1, 2, 2)\n",
    "ax.plot(x_arr, hist[2], '-o', label='Train accuracy')\n",
    "ax.plot(x_arr, hist[3], '--<',\n",
    "        label='Validation accuracy')\n",
    "ax.legend(fontsize=15)\n",
    "ax.set_xlabel('Epoch', size = 15)\n",
    "ax.set_ylabel('Accuracy', size=15)\n",
    "plt.show()\n",
    "\n",
    "\n"
   ]
  },
  {
   "cell_type": "code",
   "execution_count": null,
   "id": "9f67947c-ccdc-48fc-be31-b4bb85acd9b9",
   "metadata": {},
   "outputs": [],
   "source": []
  }
 ],
 "metadata": {
  "kernelspec": {
   "display_name": "ipykernel",
   "language": "python",
   "name": "ipykernel"
  },
  "language_info": {
   "codemirror_mode": {
    "name": "ipython",
    "version": 3
   },
   "file_extension": ".py",
   "mimetype": "text/x-python",
   "name": "python",
   "nbconvert_exporter": "python",
   "pygments_lexer": "ipython3",
   "version": "3.8.12"
  }
 },
 "nbformat": 4,
 "nbformat_minor": 5
}
